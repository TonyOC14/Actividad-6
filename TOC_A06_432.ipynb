{
  "nbformat": 4,
  "nbformat_minor": 0,
  "metadata": {
    "colab": {
      "provenance": [],
      "authorship_tag": "ABX9TyPoFTIVGKFpuViOxHvFYqmb",
      "include_colab_link": true
    },
    "kernelspec": {
      "name": "python3",
      "display_name": "Python 3"
    },
    "language_info": {
      "name": "python"
    }
  },
  "cells": [
    {
      "cell_type": "markdown",
      "metadata": {
        "id": "view-in-github",
        "colab_type": "text"
      },
      "source": [
        "<a href=\"https://colab.research.google.com/github/TonyOC14/Actividad-6/blob/main/TOC_A06_432.ipynb\" target=\"_parent\"><img src=\"https://colab.research.google.com/assets/colab-badge.svg\" alt=\"Open In Colab\"/></a>"
      ]
    },
    {
      "cell_type": "code",
      "execution_count": null,
      "metadata": {
        "id": "DW1gS-MouFaR"
      },
      "outputs": [],
      "source": [
        "import random\n",
        "from IPython.display import clear_output\n"
      ]
    },
    {
      "cell_type": "markdown",
      "source": [
        "el programa deberá tener la función valida_num que es una función que sirve para leer un numero y validarlo dentro de un rango dado"
      ],
      "metadata": {
        "id": "nqGhvbiguQ9E"
      }
    },
    {
      "cell_type": "code",
      "source": [
        "def validnum(vi,vf,msge=\" Ingrese un numero entre\",msgError1=\"Error\",msgError2=\"ERROR en la captura\"):\n",
        "  while True:\n",
        "    try:\n",
        "      num = int(input(f\"{msge} {vi} , {vf} : \"))\n",
        "    except:\n",
        "      print (msgError2)\n",
        "      continue\n",
        "    if num < vi or num > vf:\n",
        "      print (msgError1)\n",
        "      continue\n",
        "    return num"
      ],
      "metadata": {
        "id": "ljtmB-Mwut5T"
      },
      "execution_count": null,
      "outputs": []
    },
    {
      "cell_type": "markdown",
      "source": [
        "1.- FUNCIÓN QUE LEA n CANTIDAD DE NÚMEROS HASTA QUE EL USUARIO LO DESEE, DESPLEGAR LA SUMA DE LOS NÚMEROS, MEDIA Y VALOR DE LOS NÚMEROS MAYORES Y MENORES."
      ],
      "metadata": {
        "id": "1_OUGqop3C8t"
      }
    },
    {
      "cell_type": "code",
      "source": [
        "def numn():\n",
        "    print(\"PRESIONA\")\n",
        "    print(\"1- Continuar\")\n",
        "    print(\"0- Salir\")\n",
        "    suma=0\n",
        "    fuera = 1\n",
        "    i=0\n",
        "    try:\n",
        "        while(fuera):\n",
        "            num = int(input(\"Ingresa el numero: \"))\n",
        "            suma += num\n",
        "            i+=1\n",
        "            res = int(input(\"Quieres terminar? \"))\n",
        "            if(res == 0):\n",
        "                fuera = 0\n",
        "    except:\n",
        "        print(\"Error\")\n",
        "    else:\n",
        "        print(f\"La suma es de: {suma}\")\n",
        "        print(f\"La media es de: {suma/i}\")"
      ],
      "metadata": {
        "id": "Ofy-y7U03Df6"
      },
      "execution_count": null,
      "outputs": []
    },
    {
      "cell_type": "markdown",
      "source": [
        "2.- FUNCIÓN QUE GENERE 15 NÚMEROS IMPARES ENTRE 10 Y 60 o MÁXIMO DE 25 NÚMEROS. DESPLEGAR LA MEDIA DE LOS PARES Y MEDIA DE IMPARES."
      ],
      "metadata": {
        "id": "S-pGyYrd3F8G"
      }
    },
    {
      "cell_type": "code",
      "source": [
        "def generadornum_random():\n",
        "    suma_pares = 0\n",
        "    suma_impares = 0\n",
        "    par = 0\n",
        "    impar = 0\n",
        "    try:\n",
        "        for i in range(25):\n",
        "            num = random.randint(10,60)\n",
        "            if num%2 == 0:\n",
        "                suma_pares += num\n",
        "                par += 1\n",
        "            else:\n",
        "                suma_impares += num\n",
        "                impar += 1\n",
        "                if impar == 15:\n",
        "                    print(\"Se acompletaron los 15 numeros impares\")\n",
        "                    break\n",
        "        else:\n",
        "            print(\"Se completaron los 25 numeros \")\n",
        "    except:\n",
        "        print(\"error\")\n",
        "    else:\n",
        "        print(f\"La media de impares es: {suma_impares/15}\")\n",
        "        print(f\"La media de impares es: {suma_pares/par}\")"
      ],
      "metadata": {
        "id": "7pkF0BPE3Hxd"
      },
      "execution_count": null,
      "outputs": []
    },
    {
      "cell_type": "markdown",
      "source": [
        "3.- FUNCIÓN QUE SIRVA PARA LEER UN RANGO DADO POR EL USUARIO. REPETIR ESTA ACCIÓN HASTA QUE EL USUARIO LO DESEE, DESPLEGAR CANTIDAD DE NUMEROS Y PROMEDIO DE LOS NUMEROS.."
      ],
      "metadata": {
        "id": "mAd0BGES3Jyt"
      }
    },
    {
      "cell_type": "code",
      "source": [
        "def rango():\n",
        "    try:\n",
        "        i=0\n",
        "        suma=0\n",
        "        while(1):\n",
        "            try:\n",
        "                ri = int(input(\"Ingrese desde que valor desea iniciar \"))\n",
        "                rf = int(input(\"Ingrese hasta que valor final(maximo)\"))\n",
        "                validnum(vi,vf)\n",
        "\n",
        "            except ValueError as e:\n",
        "                print(\"Error:\",e)\n",
        "            else:\n",
        "                n = int(input(\"Ingresa el numero a guardar: \"))\n",
        "                suma += n\n",
        "                if n>=ri and n<=rf:\n",
        "                    print(\"El numero dado esta en el rango\")\n",
        "                else:\n",
        "                    print(\"El numero no esta en el rango\")\n",
        "                print(\"PRESIONA\")\n",
        "                print(\"1- Continuar\")\n",
        "                print(\"0- Salir\")\n",
        "                res = int(input(\"Deseas continuar? \"))\n",
        "                i+=1\n",
        "    except:\n",
        "        print(\"Ingresaste algo mal\")\n",
        "    else:\n",
        "        print(f\"El promedio es de{suma / i}\")"
      ],
      "metadata": {
        "id": "sh52U3x23LOK"
      },
      "execution_count": null,
      "outputs": []
    },
    {
      "cell_type": "markdown",
      "source": [
        "4.- FUNCIÓN QUE RECIBA COMO PARÁMETRO LOS VALORES PARA EL ÁREA DE UN TRIANGULO Y RETORNE SU RESULTADO"
      ],
      "metadata": {
        "id": "rc_v5HHm3QsA"
      }
    },
    {
      "cell_type": "code",
      "source": [
        "def area(base,altura):\n",
        "    try:\n",
        "        if base == 0:\n",
        "            raise ValueError(\"No puede ser cero\")\n",
        "        if altura == 0:\n",
        "            raise ValueError(\"No puede ser cero\")\n",
        "    except ValueError as e:\n",
        "        print(\"Error\",e)\n",
        "    else:\n",
        "        area = (base*altura)/2\n",
        "        return area"
      ],
      "metadata": {
        "id": "k7uys3pT3RID"
      },
      "execution_count": null,
      "outputs": []
    },
    {
      "cell_type": "markdown",
      "source": [
        "5.- FUNCION QUE SIRVA QUE SIRVA PARA EVALUAR EL PROMEDIO DE 3 CALIFICACIONES DADAS, SI EL USUARIO SU CALIFICACION ES APROBADA MANDAR MSGE QUE DIGA \"felicidades avanzas al siguiente semestre\", SI LA CALIFICACIONE ESTA REPROBADA EL MENSAGE \"repetir materia \" EL ALUMNO TENDRA UN MAXIMO DE CURSAR 3 VESES LA MATERIA, SI LA REPRUEBA 3 VESES MANDAR MSGE \" lastima estas fuera de la UABC\""
      ],
      "metadata": {
        "id": "gnBAvsgi3UAg"
      }
    },
    {
      "cell_type": "code",
      "source": [
        "def evaluaruabc():\n",
        "    j=0\n",
        "    while(j<=3):\n",
        "        try:\n",
        "            prom = 0\n",
        "            for i in range(1,4):\n",
        "                cali = float(input(f\"Ingrese la calificacion {i}\"))\n",
        "                prom +=cali\n",
        "                if cali < 0 or cali > 100:\n",
        "                    raise ValueError(\"La calificacion no puede ser menor a 0 o mayor de 100\")\n",
        "\n",
        "        except ValueError as e:\n",
        "            print(\"Error: \",e)\n",
        "            print(\"Volvamos a ingresarlo\")\n",
        "            continue\n",
        "        except:\n",
        "            print(\"Solo ingrese NUMEROS\")\n",
        "            print(\"Volvamos a ingresarlo\")\n",
        "            continue\n",
        "\n",
        "        else:\n",
        "            prom = prom / 3\n",
        "            if prom >= 60:\n",
        "                print(\"Felicidades avanzas al siguiente semestre\")\n",
        "                j=4\n",
        "            else:\n",
        "                print(f\"Te quedan {i}\")\n",
        "                j+=1"
      ],
      "metadata": {
        "id": "eG-m4L8G3V9N"
      },
      "execution_count": null,
      "outputs": []
    },
    {
      "cell_type": "markdown",
      "source": [
        "Menu"
      ],
      "metadata": {
        "id": "LJMPwcSR3rWU"
      }
    },
    {
      "cell_type": "code",
      "source": [
        "def menu():\n",
        "    print(\" M E N U \")\n",
        "    print(\"1.- FUNCIÓN QUE LEA n CANTIDAD DE NÚMEROS HASTA QUE EL USUARIO LO DESEE\")\n",
        "    print(\"2 -FUNCIÓN QUE GENERE 15 NÚMEROS IMPARES ENTRE 10 Y 60 o MÁXIMO DE 25 NÚMEROS.\")\n",
        "    print(\"3 - FUNCIÓN QUE SIRVA PARA LEER UN RANGO DADO POR EL USUARIO. REPETIR ESTA ACCIÓN HASTA QUE EL USUARIO LO DESEE\")\n",
        "    print(\"4.- FUNCIÓN QUE RECIBA COMO PARÁMETRO LOS VALORES PARA EL ÁREA DE UN TRIANGULO Y RETORNE SU RESULTADO\")\n",
        "    print(\"5.- FUNCION QUE SIRVA QUE SIRVA PARA EVALUAR EL PROMEDIO DE 3 CALIFICACIONES DADAS\")\n",
        "    print(\"6.-Salir\")\n",
        "    op = validnum(1,6)\n",
        "\n",
        "    if op == 1:\n",
        "        clear_output()\n",
        "        numn()\n",
        "    elif op == 2:\n",
        "        clear_output()\n",
        "        generadornum_random()\n",
        "    elif op == 3:\n",
        "        clear_output()\n",
        "        rango()\n",
        "    elif op == 4:\n",
        "        clear_output()\n",
        "        base = float(input(\"Ingrese la base del triangulo\"))\n",
        "        altura = float(input(\"Ingrese la altura del triangulo\"))\n",
        "        area()\n",
        "    elif op == 5:\n",
        "        clear_output()\n",
        "        evaluaruabc()"
      ],
      "metadata": {
        "id": "Oa4WtIzb3sj8"
      },
      "execution_count": null,
      "outputs": []
    },
    {
      "cell_type": "markdown",
      "source": [
        "Codigo final"
      ],
      "metadata": {
        "id": "Q20ikKGE3ujC"
      }
    },
    {
      "cell_type": "code",
      "source": [
        "menu()"
      ],
      "metadata": {
        "colab": {
          "base_uri": "https://localhost:8080/"
        },
        "id": "UTWANLz23xlu",
        "outputId": "984a1e80-97b8-49c7-ce0e-f44f2c1b0b95"
      },
      "execution_count": null,
      "outputs": [
        {
          "output_type": "stream",
          "name": "stdout",
          "text": [
            "PRESIONA\n",
            "1- Continuar\n",
            "0- Salir\n",
            "Ingresa el numero: 4\n",
            "Quieres terminar? 1\n",
            "Ingresa el numero: 3\n",
            "Quieres terminar? 1\n",
            "Ingresa el numero: 6\n",
            "Quieres terminar? 1\n",
            "Ingresa el numero: 2\n",
            "Quieres terminar? 0\n",
            "La suma es de: 15\n",
            "La media es de: 3.75\n"
          ]
        }
      ]
    }
  ]
}